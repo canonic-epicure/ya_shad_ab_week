{
 "cells": [
  {
   "cell_type": "code",
   "id": "initial_id",
   "metadata": {
    "collapsed": true,
    "ExecuteTime": {
     "end_time": "2025-07-09T17:33:01.887450Z",
     "start_time": "2025-07-09T17:33:01.868150Z"
    }
   },
   "source": [
    "import numpy as np\n",
    "import math\n",
    "\n",
    "def prob(l: float) -> float:\n",
    "    return 2 ** (l - 1) / 3 ** (2 * l - 1)\n",
    "\n",
    "\n",
    "r = range(0, 30)\n",
    "\n",
    "print(r)\n",
    "\n",
    "probs1 = np.array([prob(i) for i in r])\n",
    "\n",
    "print(probs1)\n",
    "\n",
    "round(probs1.sum(), 10)\n",
    "\n"
   ],
   "outputs": [
    {
     "name": "stdout",
     "output_type": "stream",
     "text": [
      "range(0, 30)\n",
      "[1.50000000e+00 3.33333333e-01 7.40740741e-02 1.64609053e-02\n",
      " 3.65797897e-03 8.12884215e-04 1.80640937e-04 4.01424304e-05\n",
      " 8.92054008e-06 1.98234224e-06 4.40520498e-07 9.78934440e-08\n",
      " 2.17540987e-08 4.83424415e-09 1.07427648e-09 2.38728106e-10\n",
      " 5.30506902e-11 1.17890423e-11 2.61978717e-12 5.82174927e-13\n",
      " 1.29372206e-13 2.87493791e-14 6.38875091e-15 1.41972243e-15\n",
      " 3.15493872e-16 7.01097494e-17 1.55799443e-17 3.46220985e-18\n",
      " 7.69379966e-19 1.70973326e-19]\n"
     ]
    },
    {
     "data": {
      "text/plain": [
       "np.float64(1.9285714286)"
      ]
     },
     "execution_count": 31,
     "metadata": {},
     "output_type": "execute_result"
    }
   ],
   "execution_count": 31
  },
  {
   "metadata": {
    "ExecuteTime": {
     "end_time": "2025-07-09T15:17:22.449025Z",
     "start_time": "2025-07-09T15:17:22.442089Z"
    }
   },
   "cell_type": "code",
   "source": [
    "v = 3 / 2 / math.log(9/2)\n",
    "\n",
    "print(v)\n",
    "\n",
    "round(v, 10)"
   ],
   "id": "6b20c36024f6687f",
   "outputs": [
    {
     "name": "stdout",
     "output_type": "stream",
     "text": [
      "0.9972891044137666\n"
     ]
    },
    {
     "data": {
      "text/plain": [
       "0.9972891044"
      ]
     },
     "execution_count": 15,
     "metadata": {},
     "output_type": "execute_result"
    }
   ],
   "execution_count": 15
  },
  {
   "metadata": {
    "ExecuteTime": {
     "end_time": "2025-07-09T15:58:35.003396Z",
     "start_time": "2025-07-09T15:58:34.986028Z"
    }
   },
   "cell_type": "code",
   "source": [
    "k = 10000\n",
    "\n",
    "def prob1(l: float) -> float:\n",
    "    return 2 ** (k - 1 + l) / 3 ** (k - 1 + 2 * l)\n",
    "\n",
    "\n",
    "probs1 = np.array([prob1(i) for i in range(30)])\n",
    "\n",
    "print(probs1)\n",
    "\n",
    "print(probs1.sum())\n"
   ],
   "id": "673b88d1efd3fc57",
   "outputs": [
    {
     "name": "stdout",
     "output_type": "stream",
     "text": [
      "[0. 0. 0. 0. 0. 0. 0. 0. 0. 0. 0. 0. 0. 0. 0. 0. 0. 0. 0. 0. 0. 0. 0. 0.\n",
      " 0. 0. 0. 0. 0. 0.]\n",
      "0.0\n"
     ]
    }
   ],
   "execution_count": 27
  }
 ],
 "metadata": {
  "kernelspec": {
   "display_name": "Python 3",
   "language": "python",
   "name": "python3"
  },
  "language_info": {
   "codemirror_mode": {
    "name": "ipython",
    "version": 2
   },
   "file_extension": ".py",
   "mimetype": "text/x-python",
   "name": "python",
   "nbconvert_exporter": "python",
   "pygments_lexer": "ipython2",
   "version": "2.7.6"
  }
 },
 "nbformat": 4,
 "nbformat_minor": 5
}
