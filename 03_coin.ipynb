{
 "cells": [
  {
   "cell_type": "code",
   "id": "initial_id",
   "metadata": {
    "collapsed": true,
    "ExecuteTime": {
     "end_time": "2025-07-11T10:29:33.601327Z",
     "start_time": "2025-07-11T10:29:33.587414Z"
    }
   },
   "source": [
    "import numpy as np\n",
    "import math\n",
    "\n",
    "\n",
    "1/2 * 1/4 + 1/4 * 1/2 + 1/2*1/4 + 1/4 * 1/2 + 1 * 1/4 + 1/2 * 1/2\n",
    "\n",
    "\n",
    "a = { 'a' : 1, 'b' : 2}\n",
    "\n",
    "for el, idx in a.items():\n",
    "    print(el, idx)\n",
    "\n"
   ],
   "outputs": [
    {
     "name": "stdout",
     "output_type": "stream",
     "text": [
      "a 1\n",
      "b 2\n"
     ]
    }
   ],
   "execution_count": 13
  }
 ],
 "metadata": {
  "kernelspec": {
   "display_name": "Python 3",
   "language": "python",
   "name": "python3"
  },
  "language_info": {
   "codemirror_mode": {
    "name": "ipython",
    "version": 2
   },
   "file_extension": ".py",
   "mimetype": "text/x-python",
   "name": "python",
   "nbconvert_exporter": "python",
   "pygments_lexer": "ipython2",
   "version": "2.7.6"
  }
 },
 "nbformat": 4,
 "nbformat_minor": 5
}
