{
 "cells": [
  {
   "cell_type": "code",
   "id": "initial_id",
   "metadata": {
    "collapsed": true,
    "ExecuteTime": {
     "end_time": "2025-07-14T10:50:33.468496Z",
     "start_time": "2025-07-14T10:50:33.453044Z"
    }
   },
   "source": [
    "\n",
    "def rel_dcg(results):\n",
    "    return sum([ result[ 'relevance' ] / (i + 1) for i, result in enumerate(results) ])\n",
    "\n",
    "\n",
    "results = [\n",
    "    { \"relevance\": 0.95, \"cost\": 77 },\n",
    "    { \"relevance\": 0.95, \"cost\": 70 },\n",
    "    { \"relevance\": 0.3, \"cost\": 100 },\n",
    "    { \"relevance\": 0.1, \"cost\": 0 }\n",
    "]\n",
    "\n",
    "for i in range(len(results) - 1):\n",
    "    results[i]['delta_rel'] = -(results[i+1]['relevance'] - results[i]['relevance'])\n",
    "    results[i]['delta_cost'] = -(results[i+1]['cost'] - results[i]['cost'])\n",
    "\n",
    "q1 = rel_dcg(results)"
   ],
   "outputs": [],
   "execution_count": 90
  },
  {
   "metadata": {
    "ExecuteTime": {
     "end_time": "2025-07-14T12:58:57.426126Z",
     "start_time": "2025-07-14T12:58:57.423173Z"
    }
   },
   "cell_type": "code",
   "source": [
    "from IPython.display import JSON\n",
    "results1 = results[:]\n",
    "\n",
    "results1[0:0] = [{\"relevance\": 0.69, \"cost\": 100}]\n",
    "\n",
    "# JSON(results1)"
   ],
   "id": "2017a586dda9d6dc",
   "outputs": [],
   "execution_count": 92
  },
  {
   "metadata": {
    "ExecuteTime": {
     "end_time": "2025-07-14T10:26:35.381072Z",
     "start_time": "2025-07-14T10:26:35.374595Z"
    }
   },
   "cell_type": "code",
   "source": [
    "q2 = rel_dcg(results1[:4])\n",
    "\n",
    "delta_q = q2-q1\n",
    "\n",
    "delta_q"
   ],
   "id": "ff75c7deb3162c72",
   "outputs": [
    {
     "data": {
      "text/plain": [
       "0.3166666666666669"
      ]
     },
     "execution_count": 71,
     "metadata": {},
     "output_type": "execute_result"
    }
   ],
   "execution_count": 71
  },
  {
   "metadata": {
    "ExecuteTime": {
     "end_time": "2025-07-14T10:27:00.268277Z",
     "start_time": "2025-07-14T10:27:00.256890Z"
    }
   },
   "cell_type": "code",
   "source": "results[2]['delta'] / 4 + results[1]['delta'] / 3 + results[0]['delta'] / 2 + results1[0]['relevance'] - results[0]['relevance']",
   "id": "a1a72ff2beda2ebd",
   "outputs": [
    {
     "data": {
      "text/plain": [
       "0.006666666666666599"
      ]
     },
     "execution_count": 78,
     "metadata": {},
     "output_type": "execute_result"
    }
   ],
   "execution_count": 78
  },
  {
   "metadata": {
    "ExecuteTime": {
     "end_time": "2025-07-14T10:26:40.025397Z",
     "start_time": "2025-07-14T10:26:40.014257Z"
    }
   },
   "cell_type": "code",
   "source": "1 - delta_q",
   "id": "cbf8676f694c0a93",
   "outputs": [
    {
     "data": {
      "text/plain": [
       "0.6833333333333331"
      ]
     },
     "execution_count": 72,
     "metadata": {},
     "output_type": "execute_result"
    }
   ],
   "execution_count": 72
  },
  {
   "metadata": {
    "ExecuteTime": {
     "end_time": "2025-07-14T12:59:58.050193Z",
     "start_time": "2025-07-14T12:59:58.037463Z"
    }
   },
   "cell_type": "code",
   "source": [
    "for i in range(1, 30):\n",
    "    print(f\"i={ i }, 1/i={ 1/ i }\")"
   ],
   "id": "826b933976ce0de2",
   "outputs": [
    {
     "name": "stdout",
     "output_type": "stream",
     "text": [
      "i=1, 1/i=1.0\n",
      "i=2, 1/i=0.5\n",
      "i=3, 1/i=0.3333333333333333\n",
      "i=4, 1/i=0.25\n",
      "i=5, 1/i=0.2\n",
      "i=6, 1/i=0.16666666666666666\n",
      "i=7, 1/i=0.14285714285714285\n",
      "i=8, 1/i=0.125\n",
      "i=9, 1/i=0.1111111111111111\n",
      "i=10, 1/i=0.1\n",
      "i=11, 1/i=0.09090909090909091\n",
      "i=12, 1/i=0.08333333333333333\n",
      "i=13, 1/i=0.07692307692307693\n",
      "i=14, 1/i=0.07142857142857142\n",
      "i=15, 1/i=0.06666666666666667\n",
      "i=16, 1/i=0.0625\n",
      "i=17, 1/i=0.058823529411764705\n",
      "i=18, 1/i=0.05555555555555555\n",
      "i=19, 1/i=0.05263157894736842\n",
      "i=20, 1/i=0.05\n",
      "i=21, 1/i=0.047619047619047616\n",
      "i=22, 1/i=0.045454545454545456\n",
      "i=23, 1/i=0.043478260869565216\n",
      "i=24, 1/i=0.041666666666666664\n",
      "i=25, 1/i=0.04\n",
      "i=26, 1/i=0.038461538461538464\n",
      "i=27, 1/i=0.037037037037037035\n",
      "i=28, 1/i=0.03571428571428571\n",
      "i=29, 1/i=0.034482758620689655\n"
     ]
    }
   ],
   "execution_count": 94
  },
  {
   "metadata": {
    "ExecuteTime": {
     "end_time": "2025-07-14T13:05:15.242625Z",
     "start_time": "2025-07-14T13:05:15.236906Z"
    }
   },
   "cell_type": "code",
   "source": [
    "for i in range(1, 30):\n",
    "    print(f\"i={ i }, 1/i={ i ** (-1/2)}\")"
   ],
   "id": "f69b210223897598",
   "outputs": [
    {
     "name": "stdout",
     "output_type": "stream",
     "text": [
      "i=1, 1/i=1.0\n",
      "i=2, 1/i=0.7071067811865476\n",
      "i=3, 1/i=0.5773502691896257\n",
      "i=4, 1/i=0.5\n",
      "i=5, 1/i=0.4472135954999579\n",
      "i=6, 1/i=0.408248290463863\n",
      "i=7, 1/i=0.37796447300922725\n",
      "i=8, 1/i=0.3535533905932738\n",
      "i=9, 1/i=0.3333333333333333\n",
      "i=10, 1/i=0.31622776601683794\n",
      "i=11, 1/i=0.30151134457776363\n",
      "i=12, 1/i=0.28867513459481287\n",
      "i=13, 1/i=0.2773500981126146\n",
      "i=14, 1/i=0.2672612419124244\n",
      "i=15, 1/i=0.25819888974716115\n",
      "i=16, 1/i=0.25\n",
      "i=17, 1/i=0.24253562503633297\n",
      "i=18, 1/i=0.23570226039551584\n",
      "i=19, 1/i=0.22941573387056177\n",
      "i=20, 1/i=0.22360679774997896\n",
      "i=21, 1/i=0.2182178902359924\n",
      "i=22, 1/i=0.21320071635561044\n",
      "i=23, 1/i=0.20851441405707477\n",
      "i=24, 1/i=0.2041241452319315\n",
      "i=25, 1/i=0.2\n",
      "i=26, 1/i=0.19611613513818404\n",
      "i=27, 1/i=0.19245008972987526\n",
      "i=28, 1/i=0.18898223650461363\n",
      "i=29, 1/i=0.18569533817705186\n"
     ]
    }
   ],
   "execution_count": 99
  }
 ],
 "metadata": {
  "kernelspec": {
   "display_name": "Python 3",
   "language": "python",
   "name": "python3"
  },
  "language_info": {
   "codemirror_mode": {
    "name": "ipython",
    "version": 2
   },
   "file_extension": ".py",
   "mimetype": "text/x-python",
   "name": "python",
   "nbconvert_exporter": "python",
   "pygments_lexer": "ipython2",
   "version": "2.7.6"
  }
 },
 "nbformat": 4,
 "nbformat_minor": 5
}
